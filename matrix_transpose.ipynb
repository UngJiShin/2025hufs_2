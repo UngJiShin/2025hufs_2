{
  "nbformat": 4,
  "nbformat_minor": 0,
  "metadata": {
    "colab": {
      "provenance": [],
      "authorship_tag": "ABX9TyMUUIbrJ1EvjQYLnnVna6Qr",
      "include_colab_link": true
    },
    "kernelspec": {
      "name": "python3",
      "display_name": "Python 3"
    },
    "language_info": {
      "name": "python"
    }
  },
  "cells": [
    {
      "cell_type": "markdown",
      "metadata": {
        "id": "view-in-github",
        "colab_type": "text"
      },
      "source": [
        "<a href=\"https://colab.research.google.com/github/UngJiShin/2025hufs_2/blob/main/matrix_transpose.ipynb\" target=\"_parent\"><img src=\"https://colab.research.google.com/assets/colab-badge.svg\" alt=\"Open In Colab\"/></a>"
      ]
    },
    {
      "cell_type": "code",
      "execution_count": 2,
      "metadata": {
        "colab": {
          "base_uri": "https://localhost:8080/"
        },
        "id": "7pva_SvfI9pL",
        "outputId": "8226b01a-04d4-43ed-b09a-44e61500d2ce"
      },
      "outputs": [
        {
          "output_type": "stream",
          "name": "stdout",
          "text": [
            "Original Matrix (A):\n",
            "[[1 2 3]\n",
            " [4 5 6]]\n",
            "\n",
            "Shape of Original Matrix: (2, 3)\n",
            "\n",
            "--------------------------\n",
            "\n",
            "Transposed Matrix (A.T):\n",
            "[[1 4]\n",
            " [2 5]\n",
            " [3 6]]\n",
            "\n",
            "Shape of Transposed Matrix: (3, 2)\n"
          ]
        }
      ],
      "source": [
        "# Import the NumPy library, which is essential for numerical operations, especially with arrays and matrices.\n",
        "# We use the alias 'np' as a standard convention to make the code shorter and more readable.\n",
        "import numpy as np\n",
        "\n",
        "# 1. Create a Matrix\n",
        "# We define a 2x3 matrix (2 rows, 3 columns) using a list of lists.\n",
        "# The np.array() function converts this list of lists into a NumPy array.\n",
        "original_matrix = np.array([\n",
        "    [1, 2, 3],\n",
        "    [4, 5, 6]\n",
        "])\n",
        "\n",
        "# 2. Transpose the Matrix\n",
        "# NumPy makes transposing a matrix very simple. You can access the .T attribute of any\n",
        "# NumPy array to get its transpose. The rows become columns and the columns become rows.\n",
        "transposed_matrix = original_matrix.T\n",
        "\n",
        "# An alternative method is to use the np.transpose() function, which does the same thing:\n",
        "# transposed_matrix_alt = np.transpose(original_matrix)\n",
        "\n",
        "# 3. Print the Results\n",
        "# Display the original and transposed matrices to see the result of the operation.\n",
        "print(\"Original Matrix (A):\")\n",
        "print(original_matrix)\n",
        "print(\"\\nShape of Original Matrix:\", original_matrix.shape) # .shape returns a tuple (rows, columns)\n",
        "\n",
        "print(\"\\n--------------------------\\n\")\n",
        "\n",
        "print(\"Transposed Matrix (A.T):\")\n",
        "print(transposed_matrix)\n",
        "print(\"\\nShape of Transposed Matrix:\", transposed_matrix.shape)\n"
      ]
    }
  ]
}